{
 "cells": [
  {
   "cell_type": "code",
   "execution_count": 1,
   "metadata": {},
   "outputs": [],
   "source": [
    "# IMPORTING LIBRARIES\n",
    "import pandas as pd"
   ]
  },
  {
   "cell_type": "code",
   "execution_count": 2,
   "metadata": {},
   "outputs": [],
   "source": [
    "# LOADING THE DATA FILE\n",
    "nintendo = pd.read_csv(\"NintendoGames.csv\")"
   ]
  },
  {
   "cell_type": "code",
   "execution_count": 3,
   "metadata": {},
   "outputs": [
    {
     "data": {
      "text/plain": [
       "(1094, 9)"
      ]
     },
     "execution_count": 3,
     "metadata": {},
     "output_type": "execute_result"
    }
   ],
   "source": [
    "# LOOKING AT THE SHAPE OF THE DATASET\n",
    "nintendo.shape"
   ]
  },
  {
   "cell_type": "code",
   "execution_count": 4,
   "metadata": {},
   "outputs": [
    {
     "data": {
      "text/plain": [
       "Index(['Meta Score', 'Title', 'Platform', 'Date', 'User Score', 'Link',\n",
       "       'Esrb Rating', 'Developers', 'Geners'],\n",
       "      dtype='object')"
      ]
     },
     "execution_count": 4,
     "metadata": {},
     "output_type": "execute_result"
    }
   ],
   "source": [
    "# LOOKING AT THE COLUMNS\n",
    "nintendo.columns"
   ]
  },
  {
   "cell_type": "code",
   "execution_count": 5,
   "metadata": {},
   "outputs": [
    {
     "data": {
      "text/html": [
       "<div>\n",
       "<style scoped>\n",
       "    .dataframe tbody tr th:only-of-type {\n",
       "        vertical-align: middle;\n",
       "    }\n",
       "\n",
       "    .dataframe tbody tr th {\n",
       "        vertical-align: top;\n",
       "    }\n",
       "\n",
       "    .dataframe thead th {\n",
       "        text-align: right;\n",
       "    }\n",
       "</style>\n",
       "<table border=\"1\" class=\"dataframe\">\n",
       "  <thead>\n",
       "    <tr style=\"text-align: right;\">\n",
       "      <th></th>\n",
       "      <th>Meta Score</th>\n",
       "      <th>Title</th>\n",
       "      <th>Platform</th>\n",
       "      <th>Date</th>\n",
       "      <th>User Score</th>\n",
       "      <th>Link</th>\n",
       "      <th>Esrb Rating</th>\n",
       "      <th>Developers</th>\n",
       "      <th>Geners</th>\n",
       "    </tr>\n",
       "  </thead>\n",
       "  <tbody>\n",
       "    <tr>\n",
       "      <th>0</th>\n",
       "      <td>NaN</td>\n",
       "      <td>Super Mario RPG</td>\n",
       "      <td>Switch</td>\n",
       "      <td>17-Nov-23</td>\n",
       "      <td>NaN</td>\n",
       "      <td>/game/switch/super-mario-rpg</td>\n",
       "      <td>E</td>\n",
       "      <td>['Nintendo']</td>\n",
       "      <td>['Role-Playing', 'Japanese-Style']</td>\n",
       "    </tr>\n",
       "    <tr>\n",
       "      <th>1</th>\n",
       "      <td>NaN</td>\n",
       "      <td>WarioWare: Move It!</td>\n",
       "      <td>Switch</td>\n",
       "      <td>3-Nov-23</td>\n",
       "      <td>NaN</td>\n",
       "      <td>/game/switch/warioware-move-it!</td>\n",
       "      <td>RP</td>\n",
       "      <td>['Intelligent Systems']</td>\n",
       "      <td>['Miscellaneous', 'Party / Minigame']</td>\n",
       "    </tr>\n",
       "    <tr>\n",
       "      <th>2</th>\n",
       "      <td>NaN</td>\n",
       "      <td>Super Mario Bros. Wonder</td>\n",
       "      <td>Switch</td>\n",
       "      <td>20-Oct-23</td>\n",
       "      <td>NaN</td>\n",
       "      <td>/game/switch/super-mario-bros-wonder</td>\n",
       "      <td>E</td>\n",
       "      <td>['Nintendo']</td>\n",
       "      <td>['Action', 'Platformer', '2D']</td>\n",
       "    </tr>\n",
       "    <tr>\n",
       "      <th>3</th>\n",
       "      <td>NaN</td>\n",
       "      <td>Detective Pikachu Returns</td>\n",
       "      <td>Switch</td>\n",
       "      <td>6-Oct-23</td>\n",
       "      <td>NaN</td>\n",
       "      <td>/game/switch/detective-pikachu-returns</td>\n",
       "      <td>NaN</td>\n",
       "      <td>['Creatures Inc.']</td>\n",
       "      <td>['Adventure', '3D', 'Third-Person']</td>\n",
       "    </tr>\n",
       "    <tr>\n",
       "      <th>4</th>\n",
       "      <td>NaN</td>\n",
       "      <td>Fae Farm</td>\n",
       "      <td>Switch</td>\n",
       "      <td>8-Sep-23</td>\n",
       "      <td>NaN</td>\n",
       "      <td>/game/switch/fae-farm</td>\n",
       "      <td>E10+</td>\n",
       "      <td>['Phoenix Labs']</td>\n",
       "      <td>['Simulation', 'Virtual', 'Virtual Life']</td>\n",
       "    </tr>\n",
       "  </tbody>\n",
       "</table>\n",
       "</div>"
      ],
      "text/plain": [
       "   Meta Score                      Title Platform       Date  User Score  \\\n",
       "0         NaN            Super Mario RPG   Switch  17-Nov-23         NaN   \n",
       "1         NaN        WarioWare: Move It!   Switch   3-Nov-23         NaN   \n",
       "2         NaN   Super Mario Bros. Wonder   Switch  20-Oct-23         NaN   \n",
       "3         NaN  Detective Pikachu Returns   Switch   6-Oct-23         NaN   \n",
       "4         NaN                   Fae Farm   Switch   8-Sep-23         NaN   \n",
       "\n",
       "                                     Link Esrb Rating  \\\n",
       "0            /game/switch/super-mario-rpg           E   \n",
       "1         /game/switch/warioware-move-it!          RP   \n",
       "2    /game/switch/super-mario-bros-wonder           E   \n",
       "3  /game/switch/detective-pikachu-returns         NaN   \n",
       "4                   /game/switch/fae-farm        E10+   \n",
       "\n",
       "                Developers                                     Geners  \n",
       "0             ['Nintendo']         ['Role-Playing', 'Japanese-Style']  \n",
       "1  ['Intelligent Systems']      ['Miscellaneous', 'Party / Minigame']  \n",
       "2             ['Nintendo']             ['Action', 'Platformer', '2D']  \n",
       "3       ['Creatures Inc.']        ['Adventure', '3D', 'Third-Person']  \n",
       "4         ['Phoenix Labs']  ['Simulation', 'Virtual', 'Virtual Life']  "
      ]
     },
     "execution_count": 5,
     "metadata": {},
     "output_type": "execute_result"
    }
   ],
   "source": [
    "# HAVING A LOOK AT THE DATASET\n",
    "nintendo.head()"
   ]
  },
  {
   "cell_type": "code",
   "execution_count": 6,
   "metadata": {},
   "outputs": [
    {
     "name": "stdout",
     "output_type": "stream",
     "text": [
      "<class 'pandas.core.frame.DataFrame'>\n",
      "RangeIndex: 1094 entries, 0 to 1093\n",
      "Data columns (total 9 columns):\n",
      " #   Column       Non-Null Count  Dtype  \n",
      "---  ------       --------------  -----  \n",
      " 0   Meta Score   709 non-null    float64\n",
      " 1   Title        1094 non-null   object \n",
      " 2   Platform     1094 non-null   object \n",
      " 3   Date         1094 non-null   object \n",
      " 4   User Score   856 non-null    float64\n",
      " 5   Link         1094 non-null   object \n",
      " 6   Esrb Rating  972 non-null    object \n",
      " 7   Developers   1091 non-null   object \n",
      " 8   Geners       1094 non-null   object \n",
      "dtypes: float64(2), object(7)\n",
      "memory usage: 77.1+ KB\n"
     ]
    }
   ],
   "source": [
    "# INFORMATION ABOUT THE DATASET\n",
    "nintendo.info()"
   ]
  },
  {
   "cell_type": "code",
   "execution_count": 7,
   "metadata": {},
   "outputs": [
    {
     "data": {
      "text/plain": [
       "Meta Score     385\n",
       "Title            0\n",
       "Platform         0\n",
       "Date             0\n",
       "User Score     238\n",
       "Link             0\n",
       "Esrb Rating    122\n",
       "Developers       3\n",
       "Geners           0\n",
       "dtype: int64"
      ]
     },
     "execution_count": 7,
     "metadata": {},
     "output_type": "execute_result"
    }
   ],
   "source": [
    "# GETTING THE SUM OF THE NULL VALUES\n",
    "nintendo.isnull().sum()"
   ]
  },
  {
   "cell_type": "code",
   "execution_count": 8,
   "metadata": {},
   "outputs": [
    {
     "data": {
      "text/plain": [
       "Meta Score     35.191956\n",
       "Title           0.000000\n",
       "Platform        0.000000\n",
       "Date            0.000000\n",
       "User Score     21.755027\n",
       "Link            0.000000\n",
       "Esrb Rating    11.151737\n",
       "Developers      0.274223\n",
       "Geners          0.000000\n",
       "dtype: float64"
      ]
     },
     "execution_count": 8,
     "metadata": {},
     "output_type": "execute_result"
    }
   ],
   "source": [
    "# PERCENTAGE OF THE NULL VALUES IN THE DATASET\n",
    "nintendo.isnull().sum()/nintendo.shape[0] * 100"
   ]
  },
  {
   "cell_type": "code",
   "execution_count": 9,
   "metadata": {},
   "outputs": [
    {
     "data": {
      "text/plain": [
       "Esrb Rating\n",
       "E       660\n",
       "T       150\n",
       "E10+    142\n",
       "M        15\n",
       "RP        5\n",
       "Name: count, dtype: int64"
      ]
     },
     "execution_count": 9,
     "metadata": {},
     "output_type": "execute_result"
    }
   ],
   "source": [
    "# LOOKING AT THE VALUES OF COLUMNS TO FIGURE OUT THE BEST OUTCOME\n",
    "nintendo['Esrb Rating'].value_counts()"
   ]
  },
  {
   "cell_type": "code",
   "execution_count": 10,
   "metadata": {},
   "outputs": [],
   "source": [
    "# FILLING NULL VALUES\n",
    "x = ['Meta Score', 'User Score']\n",
    "for i in x:\n",
    "    nintendo[i].fillna(0, inplace= True)\n"
   ]
  },
  {
   "cell_type": "code",
   "execution_count": 11,
   "metadata": {},
   "outputs": [],
   "source": [
    "# FILLING NULL VALUES\n",
    "nintendo['Esrb Rating'].fillna(\"RP\", inplace = True)"
   ]
  },
  {
   "cell_type": "code",
   "execution_count": 12,
   "metadata": {},
   "outputs": [
    {
     "data": {
      "text/plain": [
       "Meta Score     0.000000\n",
       "Title          0.000000\n",
       "Platform       0.000000\n",
       "Date           0.000000\n",
       "User Score     0.000000\n",
       "Link           0.000000\n",
       "Esrb Rating    0.000000\n",
       "Developers     0.274223\n",
       "Geners         0.000000\n",
       "dtype: float64"
      ]
     },
     "execution_count": 12,
     "metadata": {},
     "output_type": "execute_result"
    }
   ],
   "source": [
    "# LOOKING AT THE PERCENTAGE AGAIN\n",
    "nintendo.isnull().sum()/nintendo.shape[0] * 100"
   ]
  },
  {
   "cell_type": "code",
   "execution_count": 13,
   "metadata": {},
   "outputs": [],
   "source": [
    "# DROPPING SOME VALUES AND COLUMNS\n",
    "nintendo.dropna(subset=['Developers'], inplace = True)\n",
    "nintendo.drop(['Link'], axis = 1, inplace = True )"
   ]
  },
  {
   "cell_type": "code",
   "execution_count": 14,
   "metadata": {},
   "outputs": [
    {
     "data": {
      "text/plain": [
       "Meta Score     0.0\n",
       "Title          0.0\n",
       "Platform       0.0\n",
       "Date           0.0\n",
       "User Score     0.0\n",
       "Esrb Rating    0.0\n",
       "Developers     0.0\n",
       "Geners         0.0\n",
       "dtype: float64"
      ]
     },
     "execution_count": 14,
     "metadata": {},
     "output_type": "execute_result"
    }
   ],
   "source": [
    "# LOOKING AT THE PERCENTAGE AGAIN\n",
    "nintendo.isnull().sum()/nintendo.shape[0] * 100"
   ]
  },
  {
   "cell_type": "code",
   "execution_count": 15,
   "metadata": {},
   "outputs": [
    {
     "data": {
      "text/plain": [
       "Esrb Rating\n",
       "E       658\n",
       "T       150\n",
       "E10+    142\n",
       "RP      126\n",
       "M        15\n",
       "Name: count, dtype: int64"
      ]
     },
     "execution_count": 15,
     "metadata": {},
     "output_type": "execute_result"
    }
   ],
   "source": [
    "# LOOKING AT THE PERCENTAGE AGAIN\n",
    "nintendo['Esrb Rating'].value_counts()"
   ]
  },
  {
   "cell_type": "code",
   "execution_count": 16,
   "metadata": {},
   "outputs": [],
   "source": [
    "# REPLACING SOME VALUES OF THE COLUMNS TO GET BETTER UNDERSTANDING\n",
    "nintendo['Esrb Rating'] = nintendo['Esrb Rating'].replace({'E' : 'Everyone',\n",
    "                                                           'T' : \"Teen\",\n",
    "                                                           \"E10+\": \"Everyone above 10\",\n",
    "                                                           \"RP\" : \"Rating Pending\",\n",
    "                                                           \"M\" : \"Matuares Only\"\n",
    "                                                           })"
   ]
  },
  {
   "cell_type": "code",
   "execution_count": 17,
   "metadata": {},
   "outputs": [
    {
     "data": {
      "text/plain": [
       "Esrb Rating\n",
       "Everyone             658\n",
       "Teen                 150\n",
       "Everyone above 10    142\n",
       "Rating Pending       126\n",
       "Matuares Only         15\n",
       "Name: count, dtype: int64"
      ]
     },
     "execution_count": 17,
     "metadata": {},
     "output_type": "execute_result"
    }
   ],
   "source": [
    "# COUNTING THE VALUES AGAIN\n",
    "nintendo['Esrb Rating'].value_counts()"
   ]
  },
  {
   "cell_type": "code",
   "execution_count": 18,
   "metadata": {},
   "outputs": [
    {
     "data": {
      "text/plain": [
       "(1091, 8)"
      ]
     },
     "execution_count": 18,
     "metadata": {},
     "output_type": "execute_result"
    }
   ],
   "source": [
    "# LOOKING AT THE SHAPE TO ANALYSE THE DIFFERENCE\n",
    "nintendo.shape"
   ]
  },
  {
   "cell_type": "code",
   "execution_count": 19,
   "metadata": {},
   "outputs": [
    {
     "name": "stdout",
     "output_type": "stream",
     "text": [
      "<class 'pandas.core.frame.DataFrame'>\n",
      "Index: 1091 entries, 0 to 1093\n",
      "Data columns (total 8 columns):\n",
      " #   Column       Non-Null Count  Dtype  \n",
      "---  ------       --------------  -----  \n",
      " 0   Meta Score   1091 non-null   float64\n",
      " 1   Title        1091 non-null   object \n",
      " 2   Platform     1091 non-null   object \n",
      " 3   Date         1091 non-null   object \n",
      " 4   User Score   1091 non-null   float64\n",
      " 5   Esrb Rating  1091 non-null   object \n",
      " 6   Developers   1091 non-null   object \n",
      " 7   Geners       1091 non-null   object \n",
      "dtypes: float64(2), object(6)\n",
      "memory usage: 76.7+ KB\n"
     ]
    }
   ],
   "source": [
    "# GETTING THE INFO AFTER ALMOST CLEANING THE DATASET\n",
    "nintendo.info()"
   ]
  },
  {
   "cell_type": "code",
   "execution_count": 20,
   "metadata": {},
   "outputs": [],
   "source": [
    "# CHANGING THE DATATYPE FEELS TO BE CHANGED\n",
    "x = ['Meta Score', 'User Score']\n",
    "for i in x:\n",
    "    nintendo[x] = nintendo[x].astype(int)"
   ]
  },
  {
   "cell_type": "code",
   "execution_count": 21,
   "metadata": {},
   "outputs": [
    {
     "name": "stdout",
     "output_type": "stream",
     "text": [
      "<class 'pandas.core.frame.DataFrame'>\n",
      "Index: 1091 entries, 0 to 1093\n",
      "Data columns (total 8 columns):\n",
      " #   Column       Non-Null Count  Dtype \n",
      "---  ------       --------------  ----- \n",
      " 0   Meta Score   1091 non-null   int32 \n",
      " 1   Title        1091 non-null   object\n",
      " 2   Platform     1091 non-null   object\n",
      " 3   Date         1091 non-null   object\n",
      " 4   User Score   1091 non-null   int32 \n",
      " 5   Esrb Rating  1091 non-null   object\n",
      " 6   Developers   1091 non-null   object\n",
      " 7   Geners       1091 non-null   object\n",
      "dtypes: int32(2), object(6)\n",
      "memory usage: 68.2+ KB\n"
     ]
    }
   ],
   "source": [
    "# FINAL LOOKUP\n",
    "nintendo.info()"
   ]
  }
 ],
 "metadata": {
  "kernelspec": {
   "display_name": "Python 3",
   "language": "python",
   "name": "python3"
  },
  "language_info": {
   "codemirror_mode": {
    "name": "ipython",
    "version": 3
   },
   "file_extension": ".py",
   "mimetype": "text/x-python",
   "name": "python",
   "nbconvert_exporter": "python",
   "pygments_lexer": "ipython3",
   "version": "3.11.5"
  },
  "orig_nbformat": 4
 },
 "nbformat": 4,
 "nbformat_minor": 2
}
